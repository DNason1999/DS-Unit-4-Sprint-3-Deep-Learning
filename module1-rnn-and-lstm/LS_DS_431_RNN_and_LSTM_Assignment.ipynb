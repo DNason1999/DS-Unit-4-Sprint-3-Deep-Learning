{
 "cells": [
  {
   "cell_type": "markdown",
   "metadata": {},
   "source": [
    "<img align=\"left\" src=\"https://lever-client-logos.s3.amazonaws.com/864372b1-534c-480e-acd5-9711f850815c-1524247202159.png\" width=200>\n",
    "<br></br>\n",
    "<br></br>\n",
    "\n",
    "## *Data Science Unit 4 Sprint 3 Assignment 1*\n",
    "\n",
    "# Recurrent Neural Networks and Long Short Term Memory (LSTM)\n",
    "\n",
    "![Monkey at a typewriter](https://upload.wikimedia.org/wikipedia/commons/thumb/3/3c/Chimpanzee_seated_at_typewriter.jpg/603px-Chimpanzee_seated_at_typewriter.jpg)\n",
    "\n",
    "It is said that [infinite monkeys typing for an infinite amount of time](https://en.wikipedia.org/wiki/Infinite_monkey_theorem) will eventually type, among other things, the complete works of Wiliam Shakespeare. Let's see if we can get there a bit faster, with the power of Recurrent Neural Networks and LSTM.\n",
    "\n",
    "This text file contains the complete works of Shakespeare: https://www.gutenberg.org/files/100/100-0.txt\n",
    "\n",
    "Use it as training data for an RNN - you can keep it simple and train character level, and that is suggested as an initial approach.\n",
    "\n",
    "Then, use that trained RNN to generate Shakespearean-ish text. Your goal - a function that can take, as an argument, the size of text (e.g. number of characters or lines) to generate, and returns generated text of that size.\n",
    "\n",
    "Note - Shakespeare wrote an awful lot. It's OK, especially initially, to sample/use smaller data and parameters, so you can have a tighter feedback loop when you're trying to get things running. Then, once you've got a proof of concept - start pushing it more!"
   ]
  },
  {
   "cell_type": "code",
   "execution_count": null,
   "metadata": {
    "colab": {},
    "colab_type": "code",
    "id": "Ltj1je1fp5rO"
   },
   "outputs": [],
   "source": [
    "# TODO - Words, words, mere words, no matter from the heart."
   ]
  },
  {
   "cell_type": "code",
   "execution_count": 183,
   "metadata": {},
   "outputs": [],
   "source": [
    "from tensorflow.keras.callbacks import LambdaCallback\n",
    "from tensorflow.keras.models import Sequential\n",
    "from tensorflow.keras.layers import Dense, LSTM\n",
    "from tensorflow.keras.optimizers import RMSprop\n",
    "\n",
    "import random\n",
    "import sys\n",
    "\n",
    "import numpy as np"
   ]
  },
  {
   "cell_type": "code",
   "execution_count": 234,
   "metadata": {},
   "outputs": [],
   "source": [
    "import requests\n",
    "\n",
    "url = \"https://www.gutenberg.org/files/100/100-0.txt\"\n",
    "\n",
    "r = requests.request('POST', url)\n",
    "\n",
    "r.encoding = r.apparent_encoding"
   ]
  },
  {
   "cell_type": "code",
   "execution_count": 245,
   "metadata": {},
   "outputs": [
    {
     "name": "stdout",
     "output_type": "stream",
     "text": [
      "139330\n"
     ]
    }
   ],
   "source": [
    "texts = r.text.replace('\\r','').split('\\n')\n",
    "\n",
    "t = []\n",
    "for text in texts:\n",
    "    if text != '':\n",
    "        t.append(text)\n",
    "        \n",
    "print(len(t))\n",
    "t0 = t[63:(len(t)-285)]\n",
    "\n",
    "data = \"\"\n",
    "for text in t0:\n",
    "    data += text"
   ]
  },
  {
   "cell_type": "code",
   "execution_count": 247,
   "metadata": {},
   "outputs": [
    {
     "data": {
      "text/plain": [
       "138982"
      ]
     },
     "execution_count": 247,
     "metadata": {},
     "output_type": "execute_result"
    }
   ],
   "source": [
    "len(t0)"
   ]
  },
  {
   "cell_type": "code",
   "execution_count": 248,
   "metadata": {},
   "outputs": [
    {
     "name": "stdout",
     "output_type": "stream",
     "text": [
      "sequences: 1077121\n"
     ]
    }
   ],
   "source": [
    "chars = list(set(data))\n",
    "char_int = {c:i for i,c in enumerate(chars)}\n",
    "int_char = {i:c for i,c in enumerate(chars)}\n",
    "\n",
    "maxlen = 40\n",
    "step = 5\n",
    "\n",
    "encoded = [char_int[c] for c in data]\n",
    "\n",
    "sequences = [] # Each element is 40 characters long\n",
    "next_chars = [] # One element for each sequence\n",
    "\n",
    "for i in range(0, len(encoded) - maxlen, step):\n",
    "    sequences.append(encoded[i : i + maxlen])\n",
    "    next_chars.append(encoded[i + maxlen])\n",
    "print('sequences:', len(sequences))"
   ]
  },
  {
   "cell_type": "code",
   "execution_count": 249,
   "metadata": {},
   "outputs": [],
   "source": [
    "lim = 500000 # limiter to decrease work size\n",
    "\n",
    "x = np.zeros((len(sequences), maxlen, len(chars)), dtype=np.bool)[:lim]\n",
    "y = np.zeros((len(sequences), len(chars)), dtype=np.bool)[:lim]\n",
    "\n",
    "for i, sequence in enumerate(sequences[:lim]):\n",
    "    for t, char in enumerate(sequence):\n",
    "        x[i,t,char] = 1\n",
    "        \n",
    "    y[i, next_chars[i]] = 1"
   ]
  },
  {
   "cell_type": "code",
   "execution_count": 250,
   "metadata": {},
   "outputs": [
    {
     "data": {
      "text/plain": [
       "(500000, 40, 101)"
      ]
     },
     "execution_count": 250,
     "metadata": {},
     "output_type": "execute_result"
    }
   ],
   "source": [
    "x.shape"
   ]
  },
  {
   "cell_type": "code",
   "execution_count": 251,
   "metadata": {},
   "outputs": [
    {
     "data": {
      "text/plain": [
       "(500000, 101)"
      ]
     },
     "execution_count": 251,
     "metadata": {},
     "output_type": "execute_result"
    }
   ],
   "source": [
    "y.shape"
   ]
  },
  {
   "cell_type": "code",
   "execution_count": 269,
   "metadata": {},
   "outputs": [],
   "source": [
    "model_iter = 0"
   ]
  },
  {
   "cell_type": "code",
   "execution_count": 253,
   "metadata": {},
   "outputs": [],
   "source": [
    "model = Sequential()\n",
    "model.add(LSTM(128, input_shape=(maxlen, len(chars))))\n",
    "model.add(Dense(len(chars), activation='softmax'))\n",
    "\n",
    "model.compile(loss='categorical_crossentropy', optimizer='adam')"
   ]
  },
  {
   "cell_type": "code",
   "execution_count": 267,
   "metadata": {},
   "outputs": [],
   "source": [
    "model_num = 0\n",
    "\n",
    "def sample(preds, temperature=1.0):\n",
    "    # helper function to sample an index from a probability array\n",
    "    preds = np.asarray(preds).astype('float64')\n",
    "    preds = np.log(preds) / temperature\n",
    "    exp_preds = np.exp(preds)\n",
    "    preds = exp_preds / np.sum(exp_preds)\n",
    "    probas = np.random.multinomial(1, preds, 1)\n",
    "    return np.argmax(probas)\n",
    "\n",
    "def on_epoch_end(epoch, _):\n",
    "    # Function invoked at end of each epoch. Prints generated text.\n",
    "    print()\n",
    "    # Save a checkpoint of this models epoch\n",
    "    checkpoint_path = \"./checkpoints/model{}_epoch{}.ckpt\".format(model_num,epoch)\n",
    "    model.save_weights(checkpoint_path)\n",
    "    print('----- Generating text after Epoch: %d' % epoch)\n",
    "    \n",
    "    start_index = random.randint(0, len(text) - maxlen - 1)\n",
    "    for diversity in [0.2, 0.5, 1.0, 1.2]:\n",
    "        print('----- diversity:', diversity)\n",
    "\n",
    "        generated = ''\n",
    "        sentence = text[start_index: start_index + maxlen]\n",
    "        generated += sentence\n",
    "        print('----- Generating with seed: \"' + sentence + '\"')\n",
    "        sys.stdout.write(generated)\n",
    "\n",
    "        for i in range(400):\n",
    "            x_pred = np.zeros((1, maxlen, len(chars)))\n",
    "            for t, char in enumerate(sentence):\n",
    "                x_pred[0, t, char_int[char]] = 1.\n",
    "\n",
    "            preds = model.predict(x_pred, verbose=0)[0]\n",
    "            next_index = sample(preds, diversity)\n",
    "            next_char = int_char[next_index]\n",
    "\n",
    "            sentence = sentence[1:] + next_char\n",
    "\n",
    "            sys.stdout.write(next_char)\n",
    "            sys.stdout.flush()\n",
    "        print()\n",
    "\n",
    "print_callback = LambdaCallback(on_epoch_end=on_epoch_end)"
   ]
  },
  {
   "cell_type": "code",
   "execution_count": 268,
   "metadata": {
    "scrolled": true
   },
   "outputs": [
    {
     "name": "stdout",
     "output_type": "stream",
     "text": [
      "Epoch 1/10\n",
      "499968/500000 [============================>.] - ETA: 0s - loss: 1.5618\n",
      "----- Generating text after Epoch: 0\n",
      "----- diversity: 0.2\n",
      "----- Generating with seed: \"ns that no one owns a United States copy\"\n",
      "ns that no one owns a United States copy    The rease the comes the great of the common the comes    The forth the crown of the street of the street    The stort of the stort of the stand and the comes    The street of the the street of the parter,    And the common the rease the come and the then the great of the field.                                                                                                                      \n",
      "----- diversity: 0.5\n",
      "----- Generating with seed: \"ns that no one owns a United States copy\"\n",
      "ns that no one owns a United States copy    The great in the reppority    That content the thought the with the world.                                                           Exeunt FOLSTAFFORD  ELIA. 'Twas so for their compleach and the free sir,    The that there in the stort.                                                                                                                                                               \n",
      "----- diversity: 1.0\n",
      "----- Generating with seed: \"ns that no one owns a United States copy\"\n",
      "ns that no one owns a United States copy maste.                   Enter Antopither,    fender glorence OF WiLLENES. I mide to his pereat.                        Enter Plaotius, Buit HORNOFI. Wor she hath with the end the comfence.  ALOUS.Ye, what, thou at thou. Lid they fall tentw.                      Exit, and CLenter fice of Cladiestass, but heher emely forstelf,Or state, to them about ravinger, squaisen taily.    Ne, sit Jaque, the \n",
      "----- diversity: 1.2\n",
      "----- Generating with seed: \"ns that no one owns a United States copy\"\n",
      "ns that no one owns a United States copyHuph swmicks, hoce Rolaius.GROMAN.Where’s fain.crovoble, their mied, fronk roth,Whe, made me noter it grawn of thou soft.FALSTAFF.Seet my mayad Your, andob cay ant stconste!   Furnece. [_Exeunt.TO EPIN.SEnt QUEEN, hath the           Clos, dewas true livereds for now, him    Tadeve with owe stlee that I dustortlicalioun pars   Thy commones. Hele,    nots    lome, let a grolas  sacheesinesislios, ki\n",
      "500000/500000 [==============================] - 1059s 2ms/sample - loss: 1.5618\n",
      "Epoch 2/10\n",
      "499968/500000 [============================>.] - ETA: 0s - loss: 1.5458\n",
      "----- Generating text after Epoch: 1\n",
      "----- diversity: 0.2\n",
      "----- Generating with seed: \"hat no one owns a United States copyrigh\"\n",
      "hat no one owns a United States copyright,    And the command the world and the rest    And the grow of the part of the part of the fair    The country that shall shall be a good    The great of the grown of the better    The dead me and the which a thought the thing a good of the forth and    That shall be be a man the man the world my good man    That he was the grod the world that the more    The common the reason of the great of the\n",
      "----- diversity: 0.5\n",
      "----- Generating with seed: \"hat no one owns a United States copyrigh\"\n",
      "hat no one owns a United States copyright, sir,    That have have hath my forted my lord.                                                                                                                                                                                                                                                                                                                                                               \n",
      "----- diversity: 1.0\n",
      "----- Generating with seed: \"hat no one owns a United States copyrigh\"\n",
      "hat no one owns a United States copyrighe,    part youngly thus Nor holoury? He'er my perperds 'tis would.  ORLEND. Lother Imout, but neelen love king you. Schant Enter Blunch,Nor nature as Attares to’t thy hubally,Throw to this sure of melliness: thou dided's of good I have    doull ment pry his; tratthen rights; accoor soint you go hime.    Almot ever is agcombing town take their the regear a gentle can buck done here. Claws age my bl\n",
      "----- diversity: 1.2\n",
      "----- Generating with seed: \"hat no one owns a United States copyrigh\"\n",
      "hat no one owns a United States copyright'    ho 'tich the throw to my but for flee,    Youbst tell ween hence.KING HENRY.Come.POSHOR.KIAG. Gow my Sontiming, his thun ANTONY  HENRT, SOFFOLL. Yir, whire gumin. GeTtend my thilf comulaugieThe gorly’s eye new's naplet.ALINER.I an thou battly my haif of with benow!ACJLIN.Is I cannour nor our otsence,I’s done from my seas,?” InGowy!OOLARAN.[_How from asmal,CamboreTourily    Yot ever of your o\n",
      "500000/500000 [==============================] - 1019s 2ms/sample - loss: 1.5458\n",
      "Epoch 3/10\n",
      "499968/500000 [============================>.] - ETA: 0s - loss: 1.5316\n",
      "----- Generating text after Epoch: 2\n",
      "----- diversity: 0.2\n",
      "----- Generating with seed: \"w means that no one owns a United States\"\n",
      "w means that no one owns a United States    That the life the stand and the mourded    That shall be sure of his faints the counter.                                                                                                                                                                                                                                                                                                                    \n",
      "----- diversity: 0.5\n",
      "----- Generating with seed: \"w means that no one owns a United States\"\n",
      "w means that no one owns a United States.    Be as the man enter the peace of the said of shall stand fieds,    And for the from him of a sward and fears,    And say you shall and many a thing man and be a brook,    The name of his death such a more to his lord,That his things and against his traction,    The lies are sure of an into the life    The grace of the pown, I cannot part;    Of you all the thron with the mind here;    But and\n",
      "----- diversity: 1.0\n",
      "----- Generating with seed: \"w means that no one owns a United States\"\n",
      "w means that no one owns a United States,    And though let under and case presidectand.                                 [Lood                                        Mare streps'd to thou well.'To ename me,    His wither shrile to see the Queen thus.HORTIS.What draw shery with a pallangundonedOngrebe, dean the thy valiants o’er give Weerild-beam is Place busard, wifl-shall the wind?  FIRST SEENOR. No, suge Kene, and Ezcend and now reils\n",
      "----- diversity: 1.2\n",
      "----- Generating with seed: \"w means that no one owns a United States\"\n",
      "w means that no one owns a United States.  BITIZENGS.My a makes withalt; and I was liff’d haff; Such aloops,Or older. busick, keech the sings, the Battawell's pitton  Then it draapt'd.    Discomeres know all myselors turn you ear’d ’Timen? Who ealune by this?LAFES.And willk’s leet thousey, of at as I bes,In her’ll, less I do back duffer,—and nate; none,When we’ll mak’s desser’d; as your histur balidh-upon seedm’d 'tawe?SEDVIUSE, SCELE I\n",
      "500000/500000 [==============================] - 1105s 2ms/sample - loss: 1.5316\n",
      "Epoch 4/10\n",
      "499968/500000 [============================>.] - ETA: 0s - loss: 1.5185\n",
      "----- Generating text after Epoch: 3\n",
      "----- diversity: 0.2\n",
      "----- Generating with seed: \"means that no one owns a United States c\"\n",
      "means that no one owns a United States consent    And the sent to the bost of the send    The consul the send the seem the best    The more the being hath for the street    The the common the consent of the part    The world to the send the bost to the great    That the common the sent of the beguite of my lord,    And the body with the prince of the sence    And love the best the prince to the seed    And the great of the part of the s\n",
      "----- diversity: 0.5\n",
      "----- Generating with seed: \"means that no one owns a United States c\"\n",
      "means that no one owns a United States consul.    But I will not stould not for my company.                                                                                                                                                                  [Enter a Cassal the for the sword,    The turn and eyes about the woll of East                                                                                                     Exeunt  \n",
      "----- diversity: 1.0\n",
      "----- Generating with seed: \"means that no one owns a United States c\"\n",
      "means that no one owns a United States contonicken mangered,    And to I smeel day big my sovereaking anothers band;And flave my as bestube yes, Fouthure swell base?I, we his fast with honour on the Lany.    Being you, for it so, of Becitumb and bearth    Begarth'd treefest be? PAROLLIE.GARDWBROLANIA, ISCENIB. A monom'dentow, if your did in the purted    That thou art upon he is    surment our gentle being one dound, I there?  NORFOLK. \n",
      "----- diversity: 1.2\n",
      "----- Generating with seed: \"means that no one owns a United States c\"\n",
      "means that no one owns a United States come;And what which a came go to goit of York.HOMAN OF Saud Rome probourtake, what do Lord!Itwell be youts three forswCatterementy-corrowfil be actrniss, us your posipe.Why, but me I will rain, of puttle a quoes cleng,Ond me are dut'd, nobly gow'r; yo abrides    I would not    to ever there's we lorg.  JOMN. Of upon whe’s lecked allow,  _Enter his bullves I thy hit -vows out,Fast give in by tempnde\n",
      "500000/500000 [==============================] - 1825s 4ms/sample - loss: 1.5185\n",
      "Epoch 5/10\n",
      "499968/500000 [============================>.] - ETA: 0s - loss: 1.5073\n",
      "----- Generating text after Epoch: 4\n",
      "----- diversity: 0.2\n",
      "----- Generating with seed: \"one owns a United States copyright in th\"\n",
      "one owns a United States copyright in the sent and seems    The subser with a man and since the mander.                                                                                                                                                                                                                                                                                                                                                 \n",
      "----- diversity: 0.5\n",
      "----- Generating with seed: \"one owns a United States copyright in th\"\n",
      "one owns a United States copyright in the heart and there,    Which bear must way is a good by that    And say and prisoned me would not for the grace,    The sead and bleak as that such a man    That which he is to see so in which man sorend with the night of my lord.                                                                                                                                                                           \n",
      "----- diversity: 1.0\n",
      "----- Generating with seed: \"one owns a United States copyright in th\"\n",
      "one owns a United States copyright in that chack, to sumser?  YORK. But Tome? If he hath thought it now,    Is mad much he painues the metYouls time, undees, beconsof- in my done.Whith housent band in the thing and some be truepFISERIOCRAG.Sean of injest he mother, chury. But that hend with deays!    They perit dead fieleme our partalang,The foeless fied, for with hand and Warwart instand    By have offHe sape.  ANCIPHY. There durly Do \n",
      "----- diversity: 1.2\n",
      "----- Generating with seed: \"one owns a United States copyright in th\"\n",
      "one owns a United States copyright in the neolTo rack, by grace shapleamed mine’dindseCanotus,You of no widess paeddeds; fearn:  ’Cancoace witserys master doth on the blood,And sealth Hicpling tow and my courts:Yought Perrial, getAn with take besparal show. The scrion, atternom takes    I'll “as sixtlighfida’s and crodn traisio’d our Arcames    TI’ll to out a weeph in at-cipinunonGAvalA his mineSt but but at favouis, Caesar? [_Not drink\n",
      "500000/500000 [==============================] - 1860s 4ms/sample - loss: 1.5073\n",
      "Epoch 6/10\n",
      "499968/500000 [============================>.] - ETA: 0s - loss: 1.4969\n",
      "----- Generating text after Epoch: 5\n",
      "----- diversity: 0.2\n",
      "----- Generating with seed: \"ns that no one owns a United States copy\"\n",
      "ns that no one owns a United States copy    the that we have done of the constite of the servery    And see the propers of the present to the bear the bear the part,    And the which at the beliving of the bear the part,    And the part of this prisoners and the mother,    And the constance of the comes and the bellate to the bellands of the bear the consting of the bellation.                                                             \n",
      "----- diversity: 0.5\n",
      "----- Generating with seed: \"ns that no one owns a United States copy\"\n",
      "ns that no one owns a United States copy be the sensent    And will the mother, and thou art cowers    And well well hath be like a world his    as constiration and not as your heart of this the King,    And said the seems to the presence the comes    That my left me to you are thee, that he shall not to seal,    What is the part of my seem the which    And can be all thy reason of that will be beather.    And my lord, there that have s\n",
      "----- diversity: 1.0\n",
      "----- Generating with seed: \"ns that no one owns a United States copy\"\n",
      "ns that no one owns a United States copy!    They peest-thy correcell, thou good name, who advantity.Then.GLOUKERYSTan, SUCPEINR. I repeive He, whatLous is me say' temblame-    Their apporture him thy point flyswalddegenothement.    One to orregiest, that you so there of exelementy; and yirte.SURREY Two know, and then.CORNO, and with their appaporer, tell, marters and this doot Cardum;In rences chaige that puck, best all brand;    Is a \n",
      "----- diversity: 1.2\n",
      "----- Generating with seed: \"ns that no one owns a United States copy\"\n",
      "ns that no one owns a United States copy    monourly buken majesty, all mysaks nuthity.Allied, and when look our nate and figill; gearty?  CENGMIS. No, hath apprequisAGrat, I grawn, Here-you raisone. TimesOr sorounch.RECON.Untwenchers I’ll heelf umperts, actolours,    Apot under him? Eneeks.SCENE V.FRenchish;Ly, PAltanoo, smile begubition him.CULER.“lose: ibjoitct him-Of toold; he is enowars: he kiss of his commorrette weepThou well.It?\n",
      "500000/500000 [==============================] - 1656s 3ms/sample - loss: 1.4969\n",
      "Epoch 7/10\n",
      "499968/500000 [============================>.] - ETA: 0s - loss: 1.4878\n",
      "----- Generating text after Epoch: 6\n",
      "----- diversity: 0.2\n",
      "----- Generating with seed: \"ns that no one owns a United States copy\"\n",
      "ns that no one owns a United States copy    And the world with a good of the present    The consuller to the street of a grounds.                                                                                                                                                                                                                                                                                                                       \n",
      "----- diversity: 0.5\n",
      "----- Generating with seed: \"ns that no one owns a United States copy\"\n",
      "ns that no one owns a United States copy    Think I do make the friends and promise so for the fires;That I was a pointed of thee the great of the mother.                                                                                                                                                                                                                                                                                              \n",
      "----- diversity: 1.0\n",
      "----- Generating with seed: \"ns that no one owns a United States copy\"\n",
      "ns that no one owns a United States copy as but I conceld,What was leaves unlixt and is some that I toils.          Mark your preson'd, Chares is, and all truff.  KING JOHN. I could brish moter! KINGHERLUS. Now hoor let's to vaces when onton till    To on to Somersers indoom talcy and Kent.                           [Sene]        I'll strike of Castuc hather do batether; is with,Here?CANTHUMUS.All saff in they, my llimies! me adies! Is \n",
      "----- diversity: 1.2\n",
      "----- Generating with seed: \"ns that no one owns a United States copy\"\n",
      "ns that no one owns a United States copy thiteTo now.INGLOMIUS.Be took losary, goodo new; in trow. FAL WALK. Do, mine is    I wier hearts herewammer of in Regence Nartcome. He? Farress, youghor’d?GLOMUEN.V. Make spees I will you to hear! O matter? The grow FruthinproydardmSayst foe ill to yor queclindds more-ented Samenten.CASTEW.Come (done as frings wathHall!INGTIP.Tcappension tlimbs if Harch,Broug, my commandence o’ those truch this c\n",
      "500000/500000 [==============================] - 1140s 2ms/sample - loss: 1.4878\n",
      "Epoch 8/10\n",
      "499968/500000 [============================>.] - ETA: 0s - loss: 1.4786\n",
      "----- Generating text after Epoch: 7\n",
      "----- diversity: 0.2\n",
      "----- Generating with seed: \"w means that no one owns a United States\"\n",
      "w means that no one owns a United States.                                                                                                                                                                                                                                                                                                                                                                                                               \n",
      "----- diversity: 0.5\n",
      "----- Generating with seed: \"w means that no one owns a United States\"\n",
      "w means that no one owns a United States. What say, when thy blood of many, but what he would sead to his sight of all that hearts    And promise of heart with his charge their many,    Who love the present of more that stands    And are his more and with son, that you have stranger to death,    That he would discomm the boty the serves,    What is not the star's offer the common    The did of a boor look    That shall as the streat of \n",
      "----- diversity: 1.0\n",
      "----- Generating with seed: \"w means that no one owns a United States\"\n",
      "w means that no one owns a United Statest;    As comest soan bres a hould have here is a’ find his aress urelime or yourBrancemen isveriesch wear’st stave one. Letwean his too.[_Aside._] As now! Their venty sholst rething me.    Good dound of hell toose he came    Than allow your rivity them givine of thee, being hall. In a king for this tenibues-    Pray winkned put were seen gumind this Calbor him, 'tis deart    Thou art, Hortestlly, \n",
      "----- diversity: 1.2\n",
      "----- Generating with seed: \"w means that no one owns a United States\"\n",
      "w means that no one owns a United States?GORERI. No. swad it was your haments forgetman-sues    Upon we deportaux gones,    Die. Isfick'd pust'st the mots iftrmy vows sims' him?FILST BUETOR.Hall atleh,If they woman. What, toob. Plaudering!  DOCK. So carn.  Them in Joviug tirmbbadn insmain, year it is be  I were prinious dear Pardthee; steer 'Twar’dwel, or confussets and say wipour gain, adder, is duinclend    I' lit no veans,    Quening\n",
      "500000/500000 [==============================] - 1002s 2ms/sample - loss: 1.4786\n",
      "Epoch 9/10\n",
      "499968/500000 [============================>.] - ETA: 0s - loss: 1.4703\n",
      "----- Generating text after Epoch: 8\n",
      "----- diversity: 0.2\n",
      "----- Generating with seed: \"one owns a United States copyright in th\"\n",
      "one owns a United States copyright in the part a treat to the stame.                                                                                                                                                                                                                                                                                                                                                                                    \n",
      "----- diversity: 0.5\n",
      "----- Generating with seed: \"one owns a United States copyright in th\"\n",
      "one owns a United States copyright in the world to the sun by,    And the time and which like a fing    And here strong to the partice we are send    The streat works, the heaven of the replears,So sould I mast good man the two the come to the stapped.                                                                                                                                                                                            \n",
      "----- diversity: 1.0\n",
      "----- Generating with seed: \"one owns a United States copyright in th\"\n",
      "one owns a United States copyright in their speak’ds,And shake have behridd of from their mine setter    Offerements dimbling notels conder the mind;But there'd not your lirdeson in Dusm Pince man malm'd yet.  COURTESAY. And crrey and that was your reas: seepage who for thee.    Come! the trubpels all this past world seal    If sieer as they tailore in their mady worldrumed againstite; fick dimemen art,—the rish gainsing drighted; by ho\n",
      "----- diversity: 1.2\n",
      "----- Generating with seed: \"one owns a United States copyright in th\"\n",
      "one owns a United States copyright in that, my Gavilobry; our part scornDis Of the last a deavures; if I great scome ’ow;Frase; his Majssry is n"
     ]
    },
    {
     "name": "stderr",
     "output_type": "stream",
     "text": [
      "c:\\users\\dylan nason\\anaconda3\\envs\\u4-s2-nn\\lib\\site-packages\\ipykernel_launcher.py:6: RuntimeWarning: divide by zero encountered in log\n",
      "  \n"
     ]
    },
    {
     "name": "stdout",
     "output_type": "stream",
     "text": [
      "ot.CITIZENSQe.Wed the Gaustimened feellippies-filst. sirch, cud,Sitors! For thy offereother. I was us;The three peacebloys behopl! what natthe art.Wh’le ponjected you stad; but notly to call,Thange isatious Henrishs is?ANGIAN.It, Sufferumphe hast greats; are st, boindly;Heave I candends he was. \n",
      "500000/500000 [==============================] - 1007s 2ms/sample - loss: 1.4703\n",
      "Epoch 10/10\n",
      "499968/500000 [============================>.] - ETA: 0s - loss: 1.4630\n",
      "----- Generating text after Epoch: 9\n",
      "----- diversity: 0.2\n",
      "----- Generating with seed: \"ns that no one owns a United States copy\"\n",
      "ns that no one owns a United States copy    That shall be son the courts of the bellow.                                                                                                                                                                                                                                                                                                                                                                 \n",
      "----- diversity: 0.5\n",
      "----- Generating with seed: \"ns that no one owns a United States copy\"\n",
      "ns that no one owns a United States copy    So thanks on my said of a chance    With with a paintance is thee fair with him,That way your purpose the courted be thee,    The brank on it is for our needs, they do and seem    The court of Alical the service, and the this a crown man.                                      Exit CORIOLANUS  MANCELLUS  ORLANDO. Well, and sen the countion with the serse,    What what you shall so Duke of thy de\n",
      "----- diversity: 1.0\n",
      "----- Generating with seed: \"ns that no one owns a United States copy\"\n",
      "ns that no one owns a United States copy are    Than all gave us oh and these being your Lordge this not ma,Say, and been the fire faults the burnant ciese:    He is we now get your louds and straight.  SALESAUS. This bear armseech. In that in Regent.  KING HENRY. Abound'st look my gloving, throne in de-doth out, well if fine:You be ark blew by addial and chancelence you,    Then him wall here a thunchess percyored,    Within his swappr\n",
      "----- diversity: 1.2\n",
      "----- Generating with seed: \"ns that no one owns a United States copy\"\n",
      "ns that no one owns a United States copy wing I must catrishOf acquaintay.QUEN.My goor noble such his peap’d._]ANTIPHOLUS OF SYRACUSE.Now;    Do more if limena, no yourself is have and beesThen for, and Quick fe.GLOUCESTER.Yen anstetros, to I’ll make aly?CUNTLEN.De yerla, alter,For he much.GLOUGLOM.With through but not, wholFI’ll sies the ]HAMLES.No! iuts thereposs? O Gedream I’t unwentThat great swaftly cass town, But years!? E’ll shal\n",
      "500000/500000 [==============================] - 980s 2ms/sample - loss: 1.4630\n"
     ]
    }
   ],
   "source": [
    "load_model = False\n",
    "\n",
    "if load_model:\n",
    "    try:\n",
    "        model = tf.keras.models.load_model('model{}.h5'.format(model_num))\n",
    "    except Exception as e:\n",
    "        print(e)\n",
    "        model.fit(x, y,\n",
    "                  batch_size=128,\n",
    "                  epochs=10,\n",
    "                  callbacks=[print_callback])\n",
    "else:\n",
    "    model.fit(x, y,\n",
    "              batch_size=128,\n",
    "              epochs=10,\n",
    "              callbacks=[print_callback])"
   ]
  },
  {
   "cell_type": "code",
   "execution_count": 265,
   "metadata": {},
   "outputs": [],
   "source": [
    "import h5py"
   ]
  },
  {
   "cell_type": "code",
   "execution_count": null,
   "metadata": {},
   "outputs": [],
   "source": []
  },
  {
   "cell_type": "code",
   "execution_count": null,
   "metadata": {},
   "outputs": [],
   "source": [
    "model.save('model{}_iter{}.h5'.format(model_num, model_iter))"
   ]
  },
  {
   "cell_type": "code",
   "execution_count": 202,
   "metadata": {},
   "outputs": [],
   "source": [
    "def gen_text(gen_length=400, diversity=1.0):\n",
    "    start_index = random.randint(0, len(text) - maxlen - 1)\n",
    "    generated = ''\n",
    "    sentence = text[start_index: start_index + maxlen]\n",
    "    generated += sentence\n",
    "    sys.stdout.write(sentence)\n",
    "    for i in range(gen_length):\n",
    "            x_pred = np.zeros((1, maxlen, len(chars)))\n",
    "            for t, char in enumerate(sentence):\n",
    "                x_pred[0, t, char_int[char]] = 1.\n",
    "\n",
    "            preds = model.predict(x_pred, verbose=0)[0]\n",
    "            \n",
    "            preds = np.asarray(preds).astype('float64')\n",
    "            preds = np.log(preds) / diversity\n",
    "            exp_preds = np.exp(preds)\n",
    "            preds = exp_preds / np.sum(exp_preds)\n",
    "            probas = np.random.multinomial(1, preds, 1)\n",
    "            next_index = np.argmax(probas)\n",
    "\n",
    "            next_index = sample(preds, diversity)\n",
    "            next_char = int_char[next_index]\n",
    "\n",
    "            sentence = sentence[1:] + next_char\n",
    "\n",
    "            sys.stdout.write(next_char)\n",
    "            sys.stdout.flush()\n",
    "    print()\n",
    "    "
   ]
  },
  {
   "cell_type": "code",
   "execution_count": 281,
   "metadata": {},
   "outputs": [
    {
     "name": "stdout",
     "output_type": "stream",
     "text": [
      "means that no one owns a United States come    The courts and so the bound of the common    The sent of my soul be the commorthand    That shall be a soldiers with his face    The service of a son and the company'd the crown    That shall be the court of the country    The more their bear with the courts be all the sense,    And then where we will be the bear thee    With the right of the sent of the country    The strikes of the common the subser with the bear with the bear thee seed    And when the world be a bold the court of the country    The server of the rest be son and so man,    The seem the courts be with the state    That the sent of his son of the stain's son    That is the great a would be so the sons.                                                                                                                                                                                                                                                                                                                            \n"
     ]
    }
   ],
   "source": [
    "gen_text(gen_length=1000, diversity=0.5)"
   ]
  },
  {
   "cell_type": "code",
   "execution_count": 262,
   "metadata": {},
   "outputs": [],
   "source": [
    "import os"
   ]
  },
  {
   "cell_type": "code",
   "execution_count": 263,
   "metadata": {},
   "outputs": [],
   "source": [
    "\n",
    "checkpoint_dir = os.path.dirname(checkpoint_path)"
   ]
  },
  {
   "cell_type": "code",
   "execution_count": 264,
   "metadata": {},
   "outputs": [],
   "source": [
    "!pip install -q pyyaml h5py"
   ]
  },
  {
   "cell_type": "code",
   "execution_count": 266,
   "metadata": {},
   "outputs": [],
   "source": [
    "model.save('model0.h5')"
   ]
  },
  {
   "cell_type": "markdown",
   "metadata": {
    "colab_type": "text",
    "id": "zE4a4O7Bp5x1"
   },
   "source": [
    "# Resources and Stretch Goals"
   ]
  },
  {
   "cell_type": "markdown",
   "metadata": {
    "colab_type": "text",
    "id": "uT3UV3gap9H6"
   },
   "source": [
    "## Stretch goals:\n",
    "- Refine the training and generation of text to be able to ask for different genres/styles of Shakespearean text (e.g. plays versus sonnets)\n",
    "- Train a classification model that takes text and returns which work of Shakespeare it is most likely to be from\n",
    "- Make it more performant! Many possible routes here - lean on Keras, optimize the code, and/or use more resources (AWS, etc.)\n",
    "- Revisit the news example from class, and improve it - use categories or tags to refine the model/generation, or train a news classifier\n",
    "- Run on bigger, better data\n",
    "\n",
    "## Resources:\n",
    "- [The Unreasonable Effectiveness of Recurrent Neural Networks](https://karpathy.github.io/2015/05/21/rnn-effectiveness/) - a seminal writeup demonstrating a simple but effective character-level NLP RNN\n",
    "- [Simple NumPy implementation of RNN](https://github.com/JY-Yoon/RNN-Implementation-using-NumPy/blob/master/RNN%20Implementation%20using%20NumPy.ipynb) - Python 3 version of the code from \"Unreasonable Effectiveness\"\n",
    "- [TensorFlow RNN Tutorial](https://github.com/tensorflow/models/tree/master/tutorials/rnn) - code for training a RNN on the Penn Tree Bank language dataset\n",
    "- [4 part tutorial on RNN](http://www.wildml.com/2015/09/recurrent-neural-networks-tutorial-part-1-introduction-to-rnns/) - relates RNN to the vanishing gradient problem, and provides example implementation\n",
    "- [RNN training tips and tricks](https://github.com/karpathy/char-rnn#tips-and-tricks) - some rules of thumb for parameterizing and training your RNN"
   ]
  }
 ],
 "metadata": {
  "kernelspec": {
   "display_name": "Python 3",
   "language": "python",
   "name": "python3"
  },
  "language_info": {
   "codemirror_mode": {
    "name": "ipython",
    "version": 3
   },
   "file_extension": ".py",
   "mimetype": "text/x-python",
   "name": "python",
   "nbconvert_exporter": "python",
   "pygments_lexer": "ipython3",
   "version": "3.7.3"
  }
 },
 "nbformat": 4,
 "nbformat_minor": 4
}
